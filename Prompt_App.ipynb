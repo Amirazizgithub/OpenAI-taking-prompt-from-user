{
 "cells": [
  {
   "cell_type": "markdown",
   "id": "4eb5e725",
   "metadata": {},
   "source": [
    "# Taking Prompt from user"
   ]
  },
  {
   "cell_type": "code",
   "execution_count": 1,
   "id": "cb0a8944",
   "metadata": {},
   "outputs": [
    {
     "name": "stdout",
     "output_type": "stream",
     "text": [
      "Write your prompt: \n",
      "write 6 lines poem on AI\n",
      "\n",
      "In circuits and code, AI awakens,\n",
      "A world of learning, where technology beckons.\n",
      "Robots explore realms of knowledge untold,\n",
      "Transforming the future, as their stories unfold.\n",
      "\n",
      "With algorithms and data, they seek to comprehend,\n",
      "Artificial minds, on a quest without end.\n",
      "AI's rapid progress, a marvel to behold!\n"
     ]
    }
   ],
   "source": [
    "import openai\n",
    "\n",
    "# Replace 'YOUR_API_KEY' with your actual OpenAI API key\n",
    "api_key = \"sk-****....\"\n",
    "\n",
    "# Set the API key\n",
    "openai.api_key = api_key\n",
    "\n",
    "prompt = input(\"Write your prompt: \\n\")\n",
    "print()\n",
    "\n",
    "def chatgpt_gen():\n",
    "    response = openai.ChatCompletion.create(\n",
    "        model=\"gpt-3.5-turbo\", \n",
    "        messages=[{\"role\":\"user\", \"content\": prompt}]\n",
    "    )\n",
    "    print(response.choices[0]['message']['content'])\n",
    "\n",
    "if __name__== '__main__':\n",
    "    chatgpt_gen()"
   ]
  },
  {
   "cell_type": "code",
   "execution_count": null,
   "id": "cbbc0ecc",
   "metadata": {},
   "outputs": [],
   "source": []
  }
 ],
 "metadata": {
  "kernelspec": {
   "display_name": "Python 3 (ipykernel)",
   "language": "python",
   "name": "python3"
  },
  "language_info": {
   "codemirror_mode": {
    "name": "ipython",
    "version": 3
   },
   "file_extension": ".py",
   "mimetype": "text/x-python",
   "name": "python",
   "nbconvert_exporter": "python",
   "pygments_lexer": "ipython3",
   "version": "3.9.13"
  }
 },
 "nbformat": 4,
 "nbformat_minor": 5
}
